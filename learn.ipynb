{
 "cells": [
  {
   "cell_type": "code",
   "execution_count": 2,
   "id": "initial_id",
   "metadata": {
    "collapsed": true,
    "ExecuteTime": {
     "end_time": "2023-11-21T07:40:15.279403700Z",
     "start_time": "2023-11-21T07:40:15.265556900Z"
    }
   },
   "outputs": [
    {
     "data": {
      "text/plain": "'2.1.1+cu118'"
     },
     "execution_count": 2,
     "metadata": {},
     "output_type": "execute_result"
    }
   ],
   "source": [
    "import numpy as np\n",
    "import torch\n",
    "torch.__version__"
   ]
  },
  {
   "cell_type": "code",
   "execution_count": 3,
   "outputs": [
    {
     "data": {
      "text/plain": "tensor([[-1.9542e-03,  1.5653e-42,  0.0000e+00],\n        [ 0.0000e+00,  0.0000e+00,  0.0000e+00],\n        [ 0.0000e+00,  0.0000e+00,  0.0000e+00],\n        [ 0.0000e+00,  0.0000e+00,  0.0000e+00],\n        [ 0.0000e+00,  0.0000e+00,  0.0000e+00]])"
     },
     "execution_count": 3,
     "metadata": {},
     "output_type": "execute_result"
    }
   ],
   "source": [
    "x = torch.empty(5,3)\n",
    "x"
   ],
   "metadata": {
    "collapsed": false,
    "ExecuteTime": {
     "end_time": "2023-11-21T07:40:31.880938400Z",
     "start_time": "2023-11-21T07:40:31.811191200Z"
    }
   },
   "id": "50daa96bc043a53c"
  },
  {
   "cell_type": "code",
   "execution_count": 9,
   "outputs": [
    {
     "name": "stdout",
     "output_type": "stream",
     "text": [
      "tensor([[0.7316, 0.3156, 0.8923],\n",
      "        [0.9144, 0.2593, 0.6878],\n",
      "        [0.9796, 0.1462, 0.5481],\n",
      "        [0.3881, 0.2552, 0.6937],\n",
      "        [0.6782, 0.3407, 0.6858]])\n",
      "tensor([0.7316, 0.3156, 0.8923, 0.9144, 0.2593, 0.6878, 0.9796, 0.1462, 0.5481,\n",
      "        0.3881, 0.2552, 0.6937, 0.6782, 0.3407, 0.6858])\n"
     ]
    },
    {
     "data": {
      "text/plain": "tensor([0.3156, 0.2593, 0.1462, 0.2552, 0.3407])"
     },
     "execution_count": 9,
     "metadata": {},
     "output_type": "execute_result"
    }
   ],
   "source": [
    "x = torch.rand(5,3)\n",
    "print(x)\n",
    "print(x.view(15))\n",
    "x[:,1]"
   ],
   "metadata": {
    "collapsed": false,
    "ExecuteTime": {
     "end_time": "2023-11-21T07:57:29.119429700Z",
     "start_time": "2023-11-21T07:57:29.102952100Z"
    }
   },
   "id": "3eb0a7effbfbe0d8"
  },
  {
   "cell_type": "code",
   "execution_count": 5,
   "outputs": [
    {
     "data": {
      "text/plain": "tensor([[0, 0, 0],\n        [0, 0, 0],\n        [0, 0, 0],\n        [0, 0, 0],\n        [0, 0, 0]])"
     },
     "execution_count": 5,
     "metadata": {},
     "output_type": "execute_result"
    }
   ],
   "source": [
    "x = torch.zeros(5,3, dtype=torch.long)\n",
    "x"
   ],
   "metadata": {
    "collapsed": false,
    "ExecuteTime": {
     "end_time": "2023-11-21T07:44:10.420656500Z",
     "start_time": "2023-11-21T07:44:10.397417500Z"
    }
   },
   "id": "d0246d0deea58caf"
  },
  {
   "cell_type": "code",
   "execution_count": 6,
   "outputs": [
    {
     "data": {
      "text/plain": "tensor([5.5000, 3.0000])"
     },
     "execution_count": 6,
     "metadata": {},
     "output_type": "execute_result"
    }
   ],
   "source": [
    "x = torch.tensor([5.5, 3])\n",
    "x"
   ],
   "metadata": {
    "collapsed": false,
    "ExecuteTime": {
     "end_time": "2023-11-21T07:44:42.639774700Z",
     "start_time": "2023-11-21T07:44:42.624190100Z"
    }
   },
   "id": "d2cef4ce7d1618bc"
  },
  {
   "cell_type": "code",
   "execution_count": 7,
   "outputs": [
    {
     "data": {
      "text/plain": "torch.Size([2])"
     },
     "execution_count": 7,
     "metadata": {},
     "output_type": "execute_result"
    }
   ],
   "source": [
    "x.size()"
   ],
   "metadata": {
    "collapsed": false,
    "ExecuteTime": {
     "end_time": "2023-11-21T07:55:14.172846600Z",
     "start_time": "2023-11-21T07:55:14.161740300Z"
    }
   },
   "id": "456d8a7d57abd89f"
  },
  {
   "cell_type": "code",
   "execution_count": 8,
   "outputs": [
    {
     "data": {
      "text/plain": "(11, 1)"
     },
     "execution_count": 8,
     "metadata": {},
     "output_type": "execute_result"
    }
   ],
   "source": [
    "# 构造数据\n",
    "import numpy as np\n",
    "x_values = [i for i in range(11)]\n",
    "x_train = np.array(x_values, dtype=np.float32)\n",
    "x_train = x_train.reshape(-1,1)\n",
    "x_train.shape"
   ],
   "metadata": {
    "collapsed": false,
    "ExecuteTime": {
     "end_time": "2023-11-21T11:57:41.511541200Z",
     "start_time": "2023-11-21T11:57:41.491882700Z"
    }
   },
   "id": "b9efbb2241784f7c"
  },
  {
   "cell_type": "code",
   "execution_count": 9,
   "outputs": [
    {
     "data": {
      "text/plain": "(11, 1)"
     },
     "execution_count": 9,
     "metadata": {},
     "output_type": "execute_result"
    }
   ],
   "source": [
    "y_values = [2*i+1 for i in x_values]\n",
    "y_train = np.array(y_values, dtype=np.float32)\n",
    "y_train = y_train.reshape(-1,1)\n",
    "y_train.shape"
   ],
   "metadata": {
    "collapsed": false,
    "ExecuteTime": {
     "end_time": "2023-11-21T11:58:56.838100500Z",
     "start_time": "2023-11-21T11:58:56.828402800Z"
    }
   },
   "id": "e03f5450b7a6a278"
  },
  {
   "cell_type": "code",
   "execution_count": 3,
   "outputs": [],
   "source": [
    "# 线性回归\n",
    "import torch\n",
    "import torch.nn as nn\n",
    "class LinearRegressionModel(nn.Module):\n",
    "    def __init__(self, input_dim, output_dim):\n",
    "        super(LinearRegressionModel, self).__init__()\n",
    "        self.linear = nn.Linear(input_dim, output_dim)\n",
    "        \n",
    "    def forward(self, x):\n",
    "        out = self.linear(x)\n",
    "        return out"
   ],
   "metadata": {
    "collapsed": false,
    "ExecuteTime": {
     "end_time": "2023-11-21T11:51:02.470702900Z",
     "start_time": "2023-11-21T11:51:02.454298400Z"
    }
   },
   "id": "5046ba2764796b5b"
  },
  {
   "cell_type": "code",
   "execution_count": 4,
   "outputs": [],
   "source": [
    "input_dim = 1\n",
    "output_dim = 1\n",
    "\n",
    "model = LinearRegressionModel(input_dim, output_dim)"
   ],
   "metadata": {
    "collapsed": false,
    "ExecuteTime": {
     "end_time": "2023-11-21T11:51:03.039810800Z",
     "start_time": "2023-11-21T11:51:03.030368Z"
    }
   },
   "id": "9286079a7a21e6bc"
  },
  {
   "cell_type": "code",
   "execution_count": 5,
   "outputs": [
    {
     "data": {
      "text/plain": "LinearRegressionModel(\n  (linear): Linear(in_features=1, out_features=1, bias=True)\n)"
     },
     "execution_count": 5,
     "metadata": {},
     "output_type": "execute_result"
    }
   ],
   "source": [
    "model"
   ],
   "metadata": {
    "collapsed": false,
    "ExecuteTime": {
     "end_time": "2023-11-21T11:52:38.108933900Z",
     "start_time": "2023-11-21T11:52:38.073951700Z"
    }
   },
   "id": "1eb39a88f2cea7e2"
  },
  {
   "cell_type": "code",
   "execution_count": 6,
   "outputs": [],
   "source": [
    "# 指定好参数和损失函数\n",
    "epochs = 1000\n",
    "learning_rate = 0.01\n",
    "optimizer = torch.optim.SGD(model.parameters(), lr=learning_rate)\n",
    "criterion = nn.MSELoss()"
   ],
   "metadata": {
    "collapsed": false,
    "ExecuteTime": {
     "end_time": "2023-11-21T11:54:35.170490900Z",
     "start_time": "2023-11-21T11:54:34.949338100Z"
    }
   },
   "id": "87002431598f9ae7"
  },
  {
   "cell_type": "code",
   "execution_count": 11,
   "outputs": [
    {
     "name": "stdout",
     "output_type": "stream",
     "text": [
      "epoch 50, loss 0.15812626481056213\n",
      "epoch 100, loss 0.0901893898844719\n",
      "epoch 150, loss 0.051440540701150894\n",
      "epoch 200, loss 0.02933984249830246\n",
      "epoch 250, loss 0.016734300181269646\n",
      "epoch 300, loss 0.009544599801301956\n",
      "epoch 350, loss 0.00544386962428689\n",
      "epoch 400, loss 0.003104971954599023\n",
      "epoch 450, loss 0.0017709416570141912\n",
      "epoch 500, loss 0.0010100803337991238\n",
      "epoch 550, loss 0.0005761130014434457\n",
      "epoch 600, loss 0.00032858949271030724\n",
      "epoch 650, loss 0.00018741973326541483\n",
      "epoch 700, loss 0.00010690316412365064\n",
      "epoch 750, loss 6.0971829952904955e-05\n",
      "epoch 800, loss 3.4775526728481054e-05\n",
      "epoch 850, loss 1.9834946215269156e-05\n",
      "epoch 900, loss 1.1313770301057957e-05\n",
      "epoch 950, loss 6.454070899053477e-06\n",
      "epoch 1000, loss 3.6797093798668357e-06\n"
     ]
    }
   ],
   "source": [
    "for epoch in range(epochs):\n",
    "    epoch+=1\n",
    "    inputs = torch.from_numpy(x_train)\n",
    "    labels = torch.from_numpy(y_train)\n",
    "    \n",
    "    optimizer.zero_grad()\n",
    "    outputs = model(inputs)\n",
    "    loss = criterion(outputs, labels)\n",
    "    loss.backward()\n",
    "    optimizer.step()\n",
    "    if epoch % 50 == 0:\n",
    "        print('epoch {}, loss {}'.format(epoch, loss.item()))"
   ],
   "metadata": {
    "collapsed": false,
    "ExecuteTime": {
     "end_time": "2023-11-21T12:03:29.653661400Z",
     "start_time": "2023-11-21T12:03:29.503223700Z"
    }
   },
   "id": "dccf306fa115e6c5"
  },
  {
   "cell_type": "code",
   "execution_count": 16,
   "outputs": [
    {
     "data": {
      "text/plain": "array([[ 0.99643135],\n       [ 2.9969454 ],\n       [ 4.9974594 ],\n       [ 6.9979734 ],\n       [ 8.998487  ],\n       [10.9990015 ],\n       [12.999516  ],\n       [15.00003   ],\n       [17.000544  ],\n       [19.001059  ],\n       [21.001572  ]], dtype=float32)"
     },
     "execution_count": 16,
     "metadata": {},
     "output_type": "execute_result"
    }
   ],
   "source": [
    "# 模型测试\n",
    "predicted = model(torch.from_numpy(x_train).requires_grad_()).data.numpy()\n",
    "predicted"
   ],
   "metadata": {
    "collapsed": false,
    "ExecuteTime": {
     "end_time": "2023-11-21T12:09:38.334850900Z",
     "start_time": "2023-11-21T12:09:38.317674400Z"
    }
   },
   "id": "4f7daf2d204e1de2"
  },
  {
   "cell_type": "code",
   "execution_count": 17,
   "outputs": [],
   "source": [
    "# 模型保存\n",
    "torch.save(model.state_dict(), 'model.pkl')"
   ],
   "metadata": {
    "collapsed": false,
    "ExecuteTime": {
     "end_time": "2023-11-21T12:15:21.323539100Z",
     "start_time": "2023-11-21T12:15:21.294393300Z"
    }
   },
   "id": "c2acb9ca8fe04362"
  },
  {
   "cell_type": "code",
   "execution_count": 18,
   "outputs": [
    {
     "data": {
      "text/plain": "<All keys matched successfully>"
     },
     "execution_count": 18,
     "metadata": {},
     "output_type": "execute_result"
    }
   ],
   "source": [
    "# 模型读取\n",
    "model.load_state_dict(torch.load('model.pkl'))"
   ],
   "metadata": {
    "collapsed": false,
    "ExecuteTime": {
     "end_time": "2023-11-21T12:16:01.290037500Z",
     "start_time": "2023-11-21T12:16:01.240582600Z"
    }
   },
   "id": "65f10d934431b3eb"
  },
  {
   "cell_type": "code",
   "execution_count": 20,
   "outputs": [
    {
     "name": "stdout",
     "output_type": "stream",
     "text": [
      "epoch 50, loss 0.007088463753461838\n",
      "epoch 100, loss 0.004042974207550287\n",
      "epoch 150, loss 0.002305977512151003\n",
      "epoch 200, loss 0.001315246568992734\n",
      "epoch 250, loss 0.0007501689251512289\n",
      "epoch 300, loss 0.00042786437552422285\n",
      "epoch 350, loss 0.00024403280986007303\n",
      "epoch 400, loss 0.0001391867408528924\n",
      "epoch 450, loss 7.938464841572568e-05\n",
      "epoch 500, loss 4.5275326556293294e-05\n",
      "epoch 550, loss 2.5822311727097258e-05\n",
      "epoch 600, loss 1.472541771363467e-05\n",
      "epoch 650, loss 8.399444595852401e-06\n",
      "epoch 700, loss 4.7903531594784e-06\n",
      "epoch 750, loss 2.732280790951336e-06\n",
      "epoch 800, loss 1.5585350183755509e-06\n",
      "epoch 850, loss 8.889595051186916e-07\n",
      "epoch 900, loss 5.068831683274766e-07\n",
      "epoch 950, loss 2.8901928317282e-07\n",
      "epoch 1000, loss 1.649623584398796e-07\n"
     ]
    }
   ],
   "source": [
    "# gpu\n",
    "\n",
    "input_dim = 1\n",
    "output_dim = 1\n",
    "\n",
    "model = LinearRegressionModel(input_dim, output_dim)\n",
    "\n",
    "device = torch.device(\"cuda\")\n",
    "\n",
    "model.to(device)\n",
    "\n",
    "epochs = 1000\n",
    "learning_rate = 0.01\n",
    "optimizer = torch.optim.SGD(model.parameters(), lr=learning_rate)\n",
    "criterion = nn.MSELoss()\n",
    "\n",
    "for epoch in range(epochs):\n",
    "    epoch+=[-[]]\n",
    "    inputs = torch.from_numpy(x_train).to(device)\n",
    "    labels = torch.from_numpy(y_train).to(device)\n",
    "    \n",
    "    optimizer.zero_grad()\n",
    "    outputs = model(inputs)\n",
    "    loss = criterion(outputs, labels)\n",
    "    loss.backward()\n",
    "    optimizer.step()\n",
    "    if epoch % 50 == 0:\n",
    "        print('epoch {}, loss {}'.format(epoch, loss.item()))"
   ],
   "metadata": {
    "collapsed": false,
    "ExecuteTime": {
     "end_time": "2023-11-21T12:21:28.083043700Z",
     "start_time": "2023-11-21T12:21:27.235469Z"
    }
   },
   "id": "5554bc5595c5657f"
  },
  {
   "cell_type": "code",
   "execution_count": null,
   "outputs": [],
   "source": [],
   "metadata": {
    "collapsed": false
   },
   "id": "34f4820156b634c5"
  }
 ],
 "metadata": {
  "kernelspec": {
   "display_name": "Python 3",
   "language": "python",
   "name": "python3"
  },
  "language_info": {
   "codemirror_mode": {
    "name": "ipython",
    "version": 2
   },
   "file_extension": ".py",
   "mimetype": "text/x-python",
   "name": "python",
   "nbconvert_exporter": "python",
   "pygments_lexer": "ipython2",
   "version": "2.7.6"
  }
 },
 "nbformat": 4,
 "nbformat_minor": 5
}
